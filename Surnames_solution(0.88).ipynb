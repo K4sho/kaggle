{
 "cells": [
  {
   "cell_type": "code",
   "execution_count": 28,
   "metadata": {},
   "outputs": [],
   "source": [
    "import pandas as pd\n",
    "pd.set_option('display.max_column', 999)\n",
    "import numpy as np\n",
    "from xgboost import XGBClassifier\n",
    "from sklearn.model_selection import cross_val_score , StratifiedKFold\n",
    "\n",
    "import pymorphy2\n",
    "from sklearn.preprocessing import LabelEncoder\n",
    "\n",
    "%matplotlib inline"
   ]
  },
  {
   "cell_type": "markdown",
   "metadata": {},
   "source": [
    "### Функция для кроссвалидации модели градиентного бустинга"
   ]
  },
  {
   "cell_type": "code",
   "execution_count": 29,
   "metadata": {},
   "outputs": [],
   "source": [
    "def validate(x , y):\n",
    "    model = XGBClassifier(max_depth = 10 , n_estimators=670 , learning_rate=0.09 , colsample_bytree=0.9 , colsample_bylevel=0.6)\n",
    "    cv = StratifiedKFold(4 ,shuffle=True, random_state=99)\n",
    "    score = cross_val_score(model , x , y , scoring='roc_auc' , cv=cv)\n",
    "    print (score.mean() , score.std() , '\\n')"
   ]
  },
  {
   "cell_type": "markdown",
   "metadata": {},
   "source": [
    "### Загружаем данные"
   ]
  },
  {
   "cell_type": "code",
   "execution_count": 30,
   "metadata": {},
   "outputs": [],
   "source": [
    "train = pd.read_csv('linear_train.txt', sep = ',', header=None, names = ['Word', 'Answer'])\n",
    "test = pd.read_csv('linear_test.txt', sep = ',', header=None, names = ['Word', 'Answer'])\n"
   ]
  },
  {
   "cell_type": "markdown",
   "metadata": {},
   "source": [
    "# Сгенерируем дополнительные фичи"
   ]
  },
  {
   "cell_type": "code",
   "execution_count": 31,
   "metadata": {},
   "outputs": [],
   "source": [
    "train['Upper'] = train['Word'].apply(lambda x: 1 if (x[0].isupper() and x[1:].islower()) else 0)\n",
    "test['Upper'] = test['Word'].apply(lambda x: 1 if (x[0].isupper() and x[1:].islower()) else 0)\n",
    "\n",
    "train['Lower'] = train['Word'].apply(lambda x: 1 if (x.islower()) else 0)\n",
    "test['Lower'] = test['Word'].apply(lambda x: 1 if (x.islower()) else 0)\n",
    "\n",
    "train['All_upper'] = train['Word'].apply(lambda x: 1 if (x.isupper()) else 0)\n",
    "test['All_upper'] = test['Word'].apply(lambda x: 1 if (x.isupper()) else 0)\n",
    "\n",
    "train['Mixed'] = train['Word'].apply(lambda x: 1 if not x.isupper() and not x.islower() else 0)\n",
    "test['Mixed'] = test['Word'].apply(lambda x: 1 if not x.isupper() and not x.islower() else 0)\n",
    "\n",
    "train['Mixed'] = train['Mixed'] - train['Upper']\n",
    "test['Mixed'] = test['Mixed'] - test['Upper']\n",
    "\n",
    "train['Length'] = train['Word'].apply(lambda x: len(x))\n",
    "test['Length'] = test['Word'].apply(lambda x: len(x))\n"
   ]
  },
  {
   "cell_type": "code",
   "execution_count": 32,
   "metadata": {},
   "outputs": [],
   "source": [
    "all_data = pd.concat([train , test])\n",
    "\n",
    "sample = pd.read_csv('linear_ans_example.txt', sep = ',')"
   ]
  },
  {
   "cell_type": "markdown",
   "metadata": {},
   "source": [
    "### Используем морфологический анализатор pymorphy2"
   ]
  },
  {
   "cell_type": "code",
   "execution_count": 33,
   "metadata": {},
   "outputs": [
    {
     "name": "stdout",
     "output_type": "stream",
     "text": [
      "Wall time: 47.9 s\n"
     ]
    }
   ],
   "source": [
    "%%time\n",
    "morph = pymorphy2.MorphAnalyzer()\n",
    "\n",
    "all_data['pymorphy'] = all_data['Word'].apply(lambda x: morph.tag(x)[0])\n",
    "\n",
    "all_data['pymorphy_animacy'] = all_data['pymorphy'].apply(lambda x: x.animacy)\n",
    "all_data['pymorphy_POS'] = all_data['pymorphy'].apply(lambda x: x.POS)\n",
    "all_data['pymorphy_case'] = all_data['pymorphy'].apply(lambda x: x.case)\n",
    "all_data['pymorphy_number'] = all_data['pymorphy'].apply(lambda x: x.number)\n",
    "all_data['pymorphy_gender'] = all_data['pymorphy'].apply(lambda x: x.gender)\n",
    "\n",
    "all_data.drop('pymorphy' , axis=1 , inplace=True)\n",
    "\n",
    "columns_to_one_hot = ['pymorphy_animacy', 'pymorphy_POS', 'pymorphy_case','pymorphy_number', 'pymorphy_gender']\n",
    "\n",
    "for col in columns_to_one_hot:\n",
    "    all_data[col] = LabelEncoder().fit_transform(list(all_data[col].fillna('nan')))"
   ]
  },
  {
   "cell_type": "markdown",
   "metadata": {},
   "source": [
    "### cross-val-score"
   ]
  },
  {
   "cell_type": "code",
   "execution_count": 21,
   "metadata": {},
   "outputs": [
    {
     "name": "stdout",
     "output_type": "stream",
     "text": [
      "0.8838351830834492 0.0019968552838658163 \n",
      "\n"
     ]
    }
   ],
   "source": [
    "new_train = all_data[all_data['Answer'].notnull()]\n",
    "new_test = all_data[all_data['Answer'].isnull()]\n",
    "validate(new_train.drop(['Answer' , 'Word'] , axis=1) , new_train['Answer'])"
   ]
  },
  {
   "cell_type": "markdown",
   "metadata": {},
   "source": [
    "### Обучаем модель и загружаем предикты в файл"
   ]
  },
  {
   "cell_type": "code",
   "execution_count": 34,
   "metadata": {},
   "outputs": [
    {
     "data": {
      "text/plain": [
       "XGBClassifier(base_score=0.5, booster='gbtree', colsample_bylevel=0.6,\n",
       "       colsample_bytree=0.9, gamma=0, learning_rate=0.09, max_delta_step=0,\n",
       "       max_depth=10, min_child_weight=1, missing=None, n_estimators=670,\n",
       "       n_jobs=1, nthread=None, objective='binary:logistic', random_state=0,\n",
       "       reg_alpha=0, reg_lambda=1, scale_pos_weight=1, seed=None,\n",
       "       silent=True, subsample=1)"
      ]
     },
     "execution_count": 34,
     "metadata": {},
     "output_type": "execute_result"
    }
   ],
   "source": [
    "model = XGBClassifier(max_depth = 10 , n_estimators=670 , learning_rate=0.09 , colsample_bytree=0.9 , colsample_bylevel=0.6)\n",
    "model.fit(new_train.drop(['Answer' , 'Word'] , axis=1) , new_train['Answer'])"
   ]
  },
  {
   "cell_type": "code",
   "execution_count": null,
   "metadata": {},
   "outputs": [],
   "source": [
    "sample['Answer'] = model.predict_proba(new_test.drop(['Word' , 'Answer'] , axis=1))[:,0]\n",
    "sample.to_csv('submit.csv' , index=False)"
   ]
  },
  {
   "cell_type": "code",
   "execution_count": null,
   "metadata": {},
   "outputs": [],
   "source": [
    "new_test.drop(['Word', 'Answer'], axis = 1)"
   ]
  },
  {
   "cell_type": "code",
   "execution_count": null,
   "metadata": {},
   "outputs": [],
   "source": []
  }
 ],
 "metadata": {
  "kernelspec": {
   "display_name": "Python 3",
   "language": "python",
   "name": "python3"
  },
  "language_info": {
   "codemirror_mode": {
    "name": "ipython",
    "version": 3
   },
   "file_extension": ".py",
   "mimetype": "text/x-python",
   "name": "python",
   "nbconvert_exporter": "python",
   "pygments_lexer": "ipython3",
   "version": "3.7.1"
  }
 },
 "nbformat": 4,
 "nbformat_minor": 2
}
